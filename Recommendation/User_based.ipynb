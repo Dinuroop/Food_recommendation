{
 "cells": [
  {
   "cell_type": "code",
   "execution_count": 2,
   "metadata": {},
   "outputs": [
    {
     "data": {
      "text/html": [
       "<div>\n",
       "<style scoped>\n",
       "    .dataframe tbody tr th:only-of-type {\n",
       "        vertical-align: middle;\n",
       "    }\n",
       "\n",
       "    .dataframe tbody tr th {\n",
       "        vertical-align: top;\n",
       "    }\n",
       "\n",
       "    .dataframe thead th {\n",
       "        text-align: right;\n",
       "    }\n",
       "</style>\n",
       "<table border=\"1\" class=\"dataframe\">\n",
       "  <thead>\n",
       "    <tr style=\"text-align: right;\">\n",
       "      <th></th>\n",
       "      <th>User_Id</th>\n",
       "      <th>Veg_Non</th>\n",
       "      <th>Nutrient</th>\n",
       "      <th>Disease</th>\n",
       "      <th>Diet</th>\n",
       "    </tr>\n",
       "  </thead>\n",
       "  <tbody>\n",
       "    <tr>\n",
       "      <th>0</th>\n",
       "      <td>User_1</td>\n",
       "      <td>veg</td>\n",
       "      <td>selenium</td>\n",
       "      <td>goitre diabeties pregnancy</td>\n",
       "      <td>low_fat_diet high_fiber_diet ketogenic_diet v...</td>\n",
       "    </tr>\n",
       "    <tr>\n",
       "      <th>1</th>\n",
       "      <td>User_2</td>\n",
       "      <td>veg</td>\n",
       "      <td>vitamin_d</td>\n",
       "      <td>goitre</td>\n",
       "      <td>high_fiber_diet ketogenic_diet</td>\n",
       "    </tr>\n",
       "    <tr>\n",
       "      <th>2</th>\n",
       "      <td>User_3</td>\n",
       "      <td>veg</td>\n",
       "      <td>protien</td>\n",
       "      <td>heart_disease pregnancy</td>\n",
       "      <td>high_fiber_diet high_protien_diet</td>\n",
       "    </tr>\n",
       "  </tbody>\n",
       "</table>\n",
       "</div>"
      ],
      "text/plain": [
       "  User_Id Veg_Non   Nutrient                      Disease  \\\n",
       "0  User_1     veg   selenium   goitre diabeties pregnancy   \n",
       "1  User_2     veg  vitamin_d                       goitre   \n",
       "2  User_3     veg    protien      heart_disease pregnancy   \n",
       "\n",
       "                                                Diet  \n",
       "0   low_fat_diet high_fiber_diet ketogenic_diet v...  \n",
       "1                     high_fiber_diet ketogenic_diet  \n",
       "2                  high_fiber_diet high_protien_diet  "
      ]
     },
     "execution_count": 2,
     "metadata": {},
     "output_type": "execute_result"
    }
   ],
   "source": [
    "import pandas as pd\n",
    "import numpy as np\n",
    "import sklearn\n",
    "from sklearn.neighbors import NearestNeighbors\n",
    "\n",
    "df_profile = pd.read_csv('C:\\\\Users\\\\SUVARNA\\\\Food Recommendation\\\\Data Processing\\\\user_Profiles.csv')\n",
    "#df_activity = pd.read_csv('C:\\\\Users\\\\SUVARNA\\\\Food Recommendation\\\\Data Processing\\\\recent_activity.csv')\n",
    "df_profile.head(3)"
   ]
  },
  {
   "cell_type": "code",
   "execution_count": null,
   "metadata": {},
   "outputs": [],
   "source": []
  }
 ],
 "metadata": {
  "interpreter": {
   "hash": "ba60bd6d9e00a3f26ddff763ded8e311be817d5f0c4a65c22422597a72b6199f"
  },
  "kernelspec": {
   "display_name": "Python 3.9.1 64-bit",
   "language": "python",
   "name": "python3"
  },
  "language_info": {
   "codemirror_mode": {
    "name": "ipython",
    "version": 3
   },
   "file_extension": ".py",
   "mimetype": "text/x-python",
   "name": "python",
   "nbconvert_exporter": "python",
   "pygments_lexer": "ipython3",
   "version": "3.9.1"
  },
  "orig_nbformat": 4
 },
 "nbformat": 4,
 "nbformat_minor": 2
}
