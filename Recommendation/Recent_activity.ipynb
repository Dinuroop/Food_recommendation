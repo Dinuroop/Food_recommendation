{
 "cells": [
  {
   "cell_type": "code",
   "execution_count": 7,
   "metadata": {},
   "outputs": [
    {
     "data": {
      "text/html": [
       "<div>\n",
       "<style scoped>\n",
       "    .dataframe tbody tr th:only-of-type {\n",
       "        vertical-align: middle;\n",
       "    }\n",
       "\n",
       "    .dataframe tbody tr th {\n",
       "        vertical-align: top;\n",
       "    }\n",
       "\n",
       "    .dataframe thead th {\n",
       "        text-align: right;\n",
       "    }\n",
       "</style>\n",
       "<table border=\"1\" class=\"dataframe\">\n",
       "  <thead>\n",
       "    <tr style=\"text-align: right;\">\n",
       "      <th></th>\n",
       "      <th>User_Id</th>\n",
       "      <th>Meal_Id</th>\n",
       "      <th>Rated</th>\n",
       "      <th>Liked</th>\n",
       "      <th>Searched</th>\n",
       "      <th>Purchased</th>\n",
       "      <th>Timestamp</th>\n",
       "    </tr>\n",
       "  </thead>\n",
       "  <tbody>\n",
       "    <tr>\n",
       "      <th>0</th>\n",
       "      <td>User_19</td>\n",
       "      <td>meal_id3</td>\n",
       "      <td>1</td>\n",
       "      <td>0</td>\n",
       "      <td>0</td>\n",
       "      <td>0</td>\n",
       "      <td>2020-03-01 12:03:24</td>\n",
       "    </tr>\n",
       "    <tr>\n",
       "      <th>1</th>\n",
       "      <td>User_69</td>\n",
       "      <td>meal_id7</td>\n",
       "      <td>0</td>\n",
       "      <td>1</td>\n",
       "      <td>0</td>\n",
       "      <td>0</td>\n",
       "      <td>2020-03-04 00:20:24</td>\n",
       "    </tr>\n",
       "    <tr>\n",
       "      <th>2</th>\n",
       "      <td>User_20</td>\n",
       "      <td>meal_id9</td>\n",
       "      <td>1</td>\n",
       "      <td>0</td>\n",
       "      <td>0</td>\n",
       "      <td>1</td>\n",
       "      <td>2020-03-05 14:31:10</td>\n",
       "    </tr>\n",
       "    <tr>\n",
       "      <th>3</th>\n",
       "      <td>User_96</td>\n",
       "      <td>meal_id10</td>\n",
       "      <td>0</td>\n",
       "      <td>0</td>\n",
       "      <td>1</td>\n",
       "      <td>1</td>\n",
       "      <td>2020-03-05 22:33:26</td>\n",
       "    </tr>\n",
       "    <tr>\n",
       "      <th>4</th>\n",
       "      <td>User_63</td>\n",
       "      <td>meal_id20</td>\n",
       "      <td>0</td>\n",
       "      <td>0</td>\n",
       "      <td>1</td>\n",
       "      <td>1</td>\n",
       "      <td>2020-03-07 06:42:30</td>\n",
       "    </tr>\n",
       "    <tr>\n",
       "      <th>5</th>\n",
       "      <td>User_63</td>\n",
       "      <td>meal_id21</td>\n",
       "      <td>0</td>\n",
       "      <td>1</td>\n",
       "      <td>0</td>\n",
       "      <td>1</td>\n",
       "      <td>2020-03-07 14:44:46</td>\n",
       "    </tr>\n",
       "    <tr>\n",
       "      <th>6</th>\n",
       "      <td>User_91</td>\n",
       "      <td>meal_id28</td>\n",
       "      <td>0</td>\n",
       "      <td>1</td>\n",
       "      <td>0</td>\n",
       "      <td>1</td>\n",
       "      <td>2020-03-09 10:57:14</td>\n",
       "    </tr>\n",
       "    <tr>\n",
       "      <th>7</th>\n",
       "      <td>User_31</td>\n",
       "      <td>meal_id29</td>\n",
       "      <td>1</td>\n",
       "      <td>0</td>\n",
       "      <td>0</td>\n",
       "      <td>1</td>\n",
       "      <td>2020-03-09 16:58:56</td>\n",
       "    </tr>\n",
       "    <tr>\n",
       "      <th>8</th>\n",
       "      <td>User_25</td>\n",
       "      <td>meal_id30</td>\n",
       "      <td>0</td>\n",
       "      <td>0</td>\n",
       "      <td>1</td>\n",
       "      <td>0</td>\n",
       "      <td>2020-03-10 01:01:12</td>\n",
       "    </tr>\n",
       "    <tr>\n",
       "      <th>9</th>\n",
       "      <td>User_89</td>\n",
       "      <td>meal_id24</td>\n",
       "      <td>1</td>\n",
       "      <td>0</td>\n",
       "      <td>0</td>\n",
       "      <td>1</td>\n",
       "      <td>2020-03-12 21:20:28</td>\n",
       "    </tr>\n",
       "  </tbody>\n",
       "</table>\n",
       "</div>"
      ],
      "text/plain": [
       "   User_Id    Meal_Id  Rated  Liked  Searched  Purchased            Timestamp\n",
       "0  User_19   meal_id3      1      0         0          0  2020-03-01 12:03:24\n",
       "1  User_69   meal_id7      0      1         0          0  2020-03-04 00:20:24\n",
       "2  User_20   meal_id9      1      0         0          1  2020-03-05 14:31:10\n",
       "3  User_96  meal_id10      0      0         1          1  2020-03-05 22:33:26\n",
       "4  User_63  meal_id20      0      0         1          1  2020-03-07 06:42:30\n",
       "5  User_63  meal_id21      0      1         0          1  2020-03-07 14:44:46\n",
       "6  User_91  meal_id28      0      1         0          1  2020-03-09 10:57:14\n",
       "7  User_31  meal_id29      1      0         0          1  2020-03-09 16:58:56\n",
       "8  User_25  meal_id30      0      0         1          0  2020-03-10 01:01:12\n",
       "9  User_89  meal_id24      1      0         0          1  2020-03-12 21:20:28"
      ]
     },
     "execution_count": 7,
     "metadata": {},
     "output_type": "execute_result"
    }
   ],
   "source": [
    "import pandas as pd\n",
    "import numpy as np\n",
    "import matplotlib.pyplot as plt\n",
    "import seaborn as sns\n",
    "from collections import Counter\n",
    "\n",
    "df = pd.read_csv('C:\\\\Users\\\\SUVARNA\\\\Food_recommendation\\\\Recommendation\\\\recent_activity.csv')\n",
    "df_data = pd.read_csv('C:\\\\Users\\\\SUVARNA\\\\Food_recommendation\\\\Recommendation\\\\dataset.csv')\n",
    "df.head(10)"
   ]
  },
  {
   "cell_type": "code",
   "execution_count": 8,
   "metadata": {},
   "outputs": [],
   "source": [
    "meal_ids = list(df.Meal_Id.unique())\n",
    "recent_data = df_data[df_data.Meal_Id.isin(meal_ids)][['Nutrient','catagory','Disease','Diet']].reset_index(drop=True)"
   ]
  },
  {
   "cell_type": "code",
   "execution_count": 9,
   "metadata": {},
   "outputs": [
    {
     "name": "stdout",
     "output_type": "stream",
     "text": [
      "calcium          22\n",
      "magnesium        16\n",
      "iron             16\n",
      "vitamin_c         8\n",
      "vitamin_a         6\n",
      "selenium          5\n",
      "potassium         5\n",
      "fiber             4\n",
      "sodium            4\n",
      "carbohydrates     3\n",
      "chloride          2\n",
      "Name: Nutrient, dtype: int64\n"
     ]
    }
   ],
   "source": [
    "#plt.figure(figsize=(15,20))\n",
    "#plt.subplot(3,1,1)\n",
    "#plt.xticks(rotation=45)\n",
    "#plt.title('Nutrient,Disease and diet populrity  in Recent activities')\n",
    "print(recent_data.Nutrient.value_counts())\n",
    "\n",
    "#sns.countplot(recent_data.Nutrient)\n",
    "disease = []\n",
    "for i in range(recent_data.shape[0]):\n",
    "    for j in recent_data.loc[i,'Disease'].split():\n",
    "        disease.append(j)\n",
    "\n",
    "#plt.subplot(3,1,2)    \n",
    "#sns.countplot(disease)\n",
    "#plt.xticks(rotation=45)\n",
    "\n",
    "diet = []\n",
    "for i in range(recent_data.shape[0]):\n",
    "    for j in recent_data.loc[i,'Diet'].split():\n",
    "        diet.append(j)\n",
    "\n",
    "#plt.subplot(3,1,3)    \n",
    "#sns.countplot(diet)\n",
    "#plt.xticks(rotation=45)"
   ]
  },
  {
   "cell_type": "code",
   "execution_count": 10,
   "metadata": {},
   "outputs": [
    {
     "name": "stdout",
     "output_type": "stream",
     "text": [
      "mean occurance 8.272727272727273\n"
     ]
    },
    {
     "data": {
      "text/plain": [
       "calcium      22\n",
       "magnesium    16\n",
       "iron         16\n",
       "Name: Nutrient, dtype: int64"
      ]
     },
     "execution_count": 10,
     "metadata": {},
     "output_type": "execute_result"
    }
   ],
   "source": [
    "value_counts = recent_data.Nutrient.value_counts()\n",
    "m = recent_data.Nutrient.value_counts().mean()\n",
    "print('mean occurance',m)\n",
    "features = list(value_counts[recent_data.Nutrient.value_counts()>m].index)\n",
    "value_counts[recent_data.Nutrient.value_counts()>m]"
   ]
  },
  {
   "cell_type": "code",
   "execution_count": 11,
   "metadata": {},
   "outputs": [
    {
     "name": "stdout",
     "output_type": "stream",
     "text": [
      "mean occurance 29.083333333333332\n",
      "('hypertension', 52)\n",
      "('heart_disease', 32)\n",
      "('goitre', 56)\n",
      "('kidney_disease', 37)\n",
      "('pregnancy', 33)\n",
      "('obesity', 33)\n"
     ]
    }
   ],
   "source": [
    "a = dict(Counter(disease))\n",
    "# a = sorted(a.items(),key = lambda k:k[1],reverse=True)\n",
    "print('mean occurance',np.mean(list(a.values())))\n",
    "m = np.mean(list(a.values()))\n",
    "for i in a.items():\n",
    "    if i[1]>m:\n",
    "        print(i)\n",
    "        features.append(i[0])"
   ]
  },
  {
   "cell_type": "code",
   "execution_count": 12,
   "metadata": {},
   "outputs": [
    {
     "name": "stdout",
     "output_type": "stream",
     "text": [
      "mean occurance 30.25\n",
      "('low_fat_diet', 64)\n",
      "('high_fiber_diet', 62)\n",
      "('high_protien_diet', 72)\n",
      "('vegan_diet', 62)\n",
      "('ketogenic_diet', 70)\n"
     ]
    }
   ],
   "source": [
    "a = dict(Counter(diet))\n",
    "# a = sorted(a.items(),key = lambda k:k[1],reverse=True)\n",
    "print('mean occurance',np.mean(list(a.values())))\n",
    "m = np.mean(list(a.values()))\n",
    "for i in a.items():\n",
    "    if i[1]>m:\n",
    "        print(i)\n",
    "        features.append(i[0])"
   ]
  },
  {
   "cell_type": "code",
   "execution_count": 13,
   "metadata": {},
   "outputs": [
    {
     "name": "stdout",
     "output_type": "stream",
     "text": [
      "['calcium', 'magnesium', 'iron', 'hypertension', 'heart_disease', 'goitre', 'kidney_disease', 'pregnancy', 'obesity', 'low_fat_diet', 'high_fiber_diet', 'high_protien_diet', 'vegan_diet', 'ketogenic_diet']\n"
     ]
    }
   ],
   "source": [
    "print(features)"
   ]
  }
 ],
 "metadata": {
  "kernelspec": {
   "display_name": "Python 3.9.1 64-bit",
   "language": "python",
   "name": "python3"
  },
  "language_info": {
   "codemirror_mode": {
    "name": "ipython",
    "version": 3
   },
   "file_extension": ".py",
   "mimetype": "text/x-python",
   "name": "python",
   "nbconvert_exporter": "python",
   "pygments_lexer": "ipython3",
   "version": "3.9.1"
  },
  "orig_nbformat": 4,
  "vscode": {
   "interpreter": {
    "hash": "fd058b4f5419a99f4eec1dd6cde86fbdaa90886b3e8acb9442a012168dab5119"
   }
  }
 },
 "nbformat": 4,
 "nbformat_minor": 2
}
