{
 "cells": [
  {
   "cell_type": "code",
   "execution_count": 1,
   "metadata": {},
   "outputs": [
    {
     "name": "stderr",
     "output_type": "stream",
     "text": [
      "c:\\Users\\SUVARNA\\AppData\\Local\\Programs\\Python\\Python3.9\\lib\\site-packages\\scipy\\__init__.py:146: UserWarning: A NumPy version >=1.16.5 and <1.23.0 is required for this version of SciPy (detected version 1.23.5\n",
      "  warnings.warn(f\"A NumPy version >={np_minversion} and <{np_maxversion}\"\n"
     ]
    }
   ],
   "source": [
    "import pandas as pd\n",
    "import numpy as np\n",
    "import sklearn\n",
    "from sklearn.neighbors import NearestNeighbors\n",
    "from collections import Counter\n",
    "\n",
    "import warnings\n",
    "warnings.filterwarnings('ignore')\n"
   ]
  },
  {
   "cell_type": "code",
   "execution_count": 2,
   "metadata": {},
   "outputs": [],
   "source": [
    "class Recommender:\n",
    "    \n",
    "    def __init__(self,profiles,recent_activity,dataset):\n",
    "        self.df = dataset\n",
    "        self.profiles = profiles\n",
    "        self.recent_activity = recent_activity\n",
    "    \n",
    "    def get_features(self,dataframe):\n",
    "        #getting dummies of dataset\n",
    "        nutrient_dummies = dataframe.Nutrient.str.get_dummies()\n",
    "        disease_dummies = dataframe.Disease.str.get_dummies(sep=' ')\n",
    "        diet_dummies = dataframe.Diet.str.get_dummies(sep=' ')\n",
    "        feature_df = pd.concat([nutrient_dummies,disease_dummies,diet_dummies],axis=1)\n",
    "     \n",
    "        return feature_df\n",
    "    \n",
    "    def find_neighbors(self,dataframe,features,k):\n",
    "        features_df = self.get_features(dataframe)\n",
    "        total_features = features_df.columns  \n",
    "        d = dict()\n",
    "        for i in total_features:\n",
    "            d[i]= 0\n",
    "        for i in features:\n",
    "            d[i] = 1\n",
    "        final_input = list(d.values())\n",
    "        \n",
    "        similar_neighbors = self.k_neighbor([final_input],features_df,dataframe,k)\n",
    "        return similar_neighbors\n",
    "    \n",
    "    def k_neighbor(self,inputs,feature_df,dataframe,k):\n",
    "        \n",
    "        #initializing model with k neighbors\n",
    "        model = NearestNeighbors(n_neighbors=k,algorithm='ball_tree')\n",
    "    \n",
    "        \n",
    "        # fitting model with dataset features\n",
    "        model.fit(feature_df)\n",
    "        \n",
    "        \n",
    "        df_results = pd.DataFrame(columns=list(dataframe.columns))\n",
    "        \n",
    "        # getting distance and indices for k nearest neighbor\n",
    "        distnaces , indices = model.kneighbors(inputs)\n",
    "\n",
    "        for i in list(indices):\n",
    "            df_results = df_results.append(dataframe.loc[i])\n",
    "\n",
    "        df_results = df_results.reset_index(drop=True)\n",
    "        return df_results\n",
    "    \n",
    "    def user_based(self,features,user_id):\n",
    "       \n",
    "        similar_users = self.find_neighbors(self.profiles,features,10)\n",
    "        users = list(similar_users.User_Id)\n",
    "    \n",
    "        results = self.recent_activity[self.recent_activity.User_Id.isin(users)] #taking acitivies\n",
    "   \n",
    "        results = results[results['User_Id']!=user_id] # selecting those which are not reviewed by user\n",
    " \n",
    "        meals = list(results.Meal_Id.unique())\n",
    "      \n",
    "        results = self.df[self.df.Meal_Id.isin(meals)]\n",
    "    \n",
    "        results = results.filter(['Meal_Id','Name','Nutrient','Veg_Non','description','Price','Review'])\n",
    "\n",
    "        results = results.drop_duplicates(subset=['Name'])\n",
    "        results = results.reset_index(drop=True)\n",
    "        return results\n",
    "        \n",
    "    def recent_activity_based(self,user_id):\n",
    "        recent_df = self.recent_activity[self.recent_activity['User_Id']==user_id]\n",
    "        meal_ids = list(recent_df.Meal_Id.unique())\n",
    "        recent_data = self.df[self.df.Meal_Id.isin(meal_ids)][['Nutrient','catagory','Disease','Diet']].reset_index(drop=True)\n",
    "\n",
    "        disease = []\n",
    "        diet = []\n",
    "        for i in range(recent_data.shape[0]):\n",
    "            for j in recent_data.loc[i,'Disease'].split():\n",
    "                disease.append(j)\n",
    "        for i in range(recent_data.shape[0]):\n",
    "            for j in recent_data.loc[i,'Diet'].split():\n",
    "                diet.append(j)\n",
    "                \n",
    "        value_counts = recent_data.Nutrient.value_counts()\n",
    "        m = recent_data.Nutrient.value_counts().mean()\n",
    "        features = list(value_counts[recent_data.Nutrient.value_counts()>m].index)\n",
    "        a = dict(Counter(disease))\n",
    "        \n",
    "        m = np.mean(list(a.values()))\n",
    "        for i in a.items():\n",
    "            if i[1]>m:\n",
    "                features.append(i[0])\n",
    "        a = dict(Counter(diet))\n",
    "        m = np.mean(list(a.values()))\n",
    "        for i in a.items():\n",
    "            if i[1]>m:\n",
    "                features.append(i[0])\n",
    "                \n",
    "        similar_neighbors = self.find_neighbors(self.df,features,10)\n",
    "        return similar_neighbors.filter(['Meal_Id','Name','Nutrient','Veg_Non','description','Price','Review'])\n",
    "        \n",
    "    def recommend(self,user_id):\n",
    "        #finding user's profile features by id\n",
    "        profile = self.profiles[self.profiles['User_Id']==user_id]\n",
    "        features = []\n",
    "        features.append(profile['Nutrient'].values[0])\n",
    "        features.extend(profile['Disease'].values[0].split())\n",
    "        features.extend(profile['Diet'].values[0].split())\n",
    "        df1 = self.user_based(features,user_id)\n",
    " \n",
    "        df2 = self.recent_activity_based(user_id)\n",
    "        df = pd.concat([df1,df2])\n",
    "      \n",
    "        df = df.drop_duplicates('description').reset_index(drop=True)\n",
    "        return df"
   ]
  },
  {
   "cell_type": "code",
   "execution_count": 4,
   "metadata": {},
   "outputs": [
    {
     "ename": "AttributeError",
     "evalue": "'DataFrame' object has no attribute 'append'",
     "output_type": "error",
     "traceback": [
      "\u001b[1;31m---------------------------------------------------------------------------\u001b[0m",
      "\u001b[1;31mAttributeError\u001b[0m                            Traceback (most recent call last)",
      "\u001b[1;32mc:\\Users\\SUVARNA\\Food_recommendation\\Recommendation\\Final_Recommendation.ipynb Cell 3\u001b[0m in \u001b[0;36m9\n\u001b[0;32m      <a href='vscode-notebook-cell:/c%3A/Users/SUVARNA/Food_recommendation/Recommendation/Final_Recommendation.ipynb#W2sZmlsZQ%3D%3D?line=4'>5</a>\u001b[0m dataset \u001b[39m=\u001b[39m pd\u001b[39m.\u001b[39mread_csv(\u001b[39m'\u001b[39m\u001b[39mC:\u001b[39m\u001b[39m\\\\\u001b[39;00m\u001b[39mUsers\u001b[39m\u001b[39m\\\\\u001b[39;00m\u001b[39mSUVARNA\u001b[39m\u001b[39m\\\\\u001b[39;00m\u001b[39mFood_recommendation\u001b[39m\u001b[39m\\\\\u001b[39;00m\u001b[39mRecommendation\u001b[39m\u001b[39m\\\\\u001b[39;00m\u001b[39mdataset.csv\u001b[39m\u001b[39m'\u001b[39m) \u001b[39m# main dataset\u001b[39;00m\n\u001b[0;32m      <a href='vscode-notebook-cell:/c%3A/Users/SUVARNA/Food_recommendation/Recommendation/Final_Recommendation.ipynb#W2sZmlsZQ%3D%3D?line=7'>8</a>\u001b[0m ob \u001b[39m=\u001b[39m Recommender(profiles,recent_activity,dataset)\n\u001b[1;32m----> <a href='vscode-notebook-cell:/c%3A/Users/SUVARNA/Food_recommendation/Recommendation/Final_Recommendation.ipynb#W2sZmlsZQ%3D%3D?line=8'>9</a>\u001b[0m result \u001b[39m=\u001b[39m ob\u001b[39m.\u001b[39;49mrecommend(user_id)\n\u001b[0;32m     <a href='vscode-notebook-cell:/c%3A/Users/SUVARNA/Food_recommendation/Recommendation/Final_Recommendation.ipynb#W2sZmlsZQ%3D%3D?line=9'>10</a>\u001b[0m result\n",
      "\u001b[1;32mc:\\Users\\SUVARNA\\Food_recommendation\\Recommendation\\Final_Recommendation.ipynb Cell 3\u001b[0m in \u001b[0;36m1\n\u001b[0;32m    <a href='vscode-notebook-cell:/c%3A/Users/SUVARNA/Food_recommendation/Recommendation/Final_Recommendation.ipynb#W2sZmlsZQ%3D%3D?line=106'>107</a>\u001b[0m features\u001b[39m.\u001b[39mextend(profile[\u001b[39m'\u001b[39m\u001b[39mDisease\u001b[39m\u001b[39m'\u001b[39m]\u001b[39m.\u001b[39mvalues[\u001b[39m0\u001b[39m]\u001b[39m.\u001b[39msplit())\n\u001b[0;32m    <a href='vscode-notebook-cell:/c%3A/Users/SUVARNA/Food_recommendation/Recommendation/Final_Recommendation.ipynb#W2sZmlsZQ%3D%3D?line=107'>108</a>\u001b[0m features\u001b[39m.\u001b[39mextend(profile[\u001b[39m'\u001b[39m\u001b[39mDiet\u001b[39m\u001b[39m'\u001b[39m]\u001b[39m.\u001b[39mvalues[\u001b[39m0\u001b[39m]\u001b[39m.\u001b[39msplit())\n\u001b[1;32m--> <a href='vscode-notebook-cell:/c%3A/Users/SUVARNA/Food_recommendation/Recommendation/Final_Recommendation.ipynb#W2sZmlsZQ%3D%3D?line=108'>109</a>\u001b[0m df1 \u001b[39m=\u001b[39m \u001b[39mself\u001b[39;49m\u001b[39m.\u001b[39;49muser_based(features,user_id)\n\u001b[0;32m    <a href='vscode-notebook-cell:/c%3A/Users/SUVARNA/Food_recommendation/Recommendation/Final_Recommendation.ipynb#W2sZmlsZQ%3D%3D?line=110'>111</a>\u001b[0m df2 \u001b[39m=\u001b[39m \u001b[39mself\u001b[39m\u001b[39m.\u001b[39mrecent_activity_based(user_id)\n\u001b[0;32m    <a href='vscode-notebook-cell:/c%3A/Users/SUVARNA/Food_recommendation/Recommendation/Final_Recommendation.ipynb#W2sZmlsZQ%3D%3D?line=111'>112</a>\u001b[0m df \u001b[39m=\u001b[39m pd\u001b[39m.\u001b[39mconcat([df1,df2])\n",
      "\u001b[1;32mc:\\Users\\SUVARNA\\Food_recommendation\\Recommendation\\Final_Recommendation.ipynb Cell 3\u001b[0m in \u001b[0;36m5\n\u001b[0;32m     <a href='vscode-notebook-cell:/c%3A/Users/SUVARNA/Food_recommendation/Recommendation/Final_Recommendation.ipynb#W2sZmlsZQ%3D%3D?line=50'>51</a>\u001b[0m \u001b[39mdef\u001b[39;00m \u001b[39muser_based\u001b[39m(\u001b[39mself\u001b[39m,features,user_id):\n\u001b[1;32m---> <a href='vscode-notebook-cell:/c%3A/Users/SUVARNA/Food_recommendation/Recommendation/Final_Recommendation.ipynb#W2sZmlsZQ%3D%3D?line=52'>53</a>\u001b[0m     similar_users \u001b[39m=\u001b[39m \u001b[39mself\u001b[39;49m\u001b[39m.\u001b[39;49mfind_neighbors(\u001b[39mself\u001b[39;49m\u001b[39m.\u001b[39;49mprofiles,features,\u001b[39m10\u001b[39;49m)\n\u001b[0;32m     <a href='vscode-notebook-cell:/c%3A/Users/SUVARNA/Food_recommendation/Recommendation/Final_Recommendation.ipynb#W2sZmlsZQ%3D%3D?line=53'>54</a>\u001b[0m     users \u001b[39m=\u001b[39m \u001b[39mlist\u001b[39m(similar_users\u001b[39m.\u001b[39mUser_Id)\n\u001b[0;32m     <a href='vscode-notebook-cell:/c%3A/Users/SUVARNA/Food_recommendation/Recommendation/Final_Recommendation.ipynb#W2sZmlsZQ%3D%3D?line=55'>56</a>\u001b[0m     results \u001b[39m=\u001b[39m \u001b[39mself\u001b[39m\u001b[39m.\u001b[39mrecent_activity[\u001b[39mself\u001b[39m\u001b[39m.\u001b[39mrecent_activity\u001b[39m.\u001b[39mUser_Id\u001b[39m.\u001b[39misin(users)] \u001b[39m#taking acitivies\u001b[39;00m\n",
      "\u001b[1;32mc:\\Users\\SUVARNA\\Food_recommendation\\Recommendation\\Final_Recommendation.ipynb Cell 3\u001b[0m in \u001b[0;36m2\n\u001b[0;32m     <a href='vscode-notebook-cell:/c%3A/Users/SUVARNA/Food_recommendation/Recommendation/Final_Recommendation.ipynb#W2sZmlsZQ%3D%3D?line=23'>24</a>\u001b[0m     d[i] \u001b[39m=\u001b[39m \u001b[39m1\u001b[39m\n\u001b[0;32m     <a href='vscode-notebook-cell:/c%3A/Users/SUVARNA/Food_recommendation/Recommendation/Final_Recommendation.ipynb#W2sZmlsZQ%3D%3D?line=24'>25</a>\u001b[0m final_input \u001b[39m=\u001b[39m \u001b[39mlist\u001b[39m(d\u001b[39m.\u001b[39mvalues())\n\u001b[1;32m---> <a href='vscode-notebook-cell:/c%3A/Users/SUVARNA/Food_recommendation/Recommendation/Final_Recommendation.ipynb#W2sZmlsZQ%3D%3D?line=26'>27</a>\u001b[0m similar_neighbors \u001b[39m=\u001b[39m \u001b[39mself\u001b[39;49m\u001b[39m.\u001b[39;49mk_neighbor([final_input],features_df,dataframe,k)\n\u001b[0;32m     <a href='vscode-notebook-cell:/c%3A/Users/SUVARNA/Food_recommendation/Recommendation/Final_Recommendation.ipynb#W2sZmlsZQ%3D%3D?line=27'>28</a>\u001b[0m \u001b[39mreturn\u001b[39;00m similar_neighbors\n",
      "\u001b[1;32mc:\\Users\\SUVARNA\\Food_recommendation\\Recommendation\\Final_Recommendation.ipynb Cell 3\u001b[0m in \u001b[0;36m4\n\u001b[0;32m     <a href='vscode-notebook-cell:/c%3A/Users/SUVARNA/Food_recommendation/Recommendation/Final_Recommendation.ipynb#W2sZmlsZQ%3D%3D?line=42'>43</a>\u001b[0m distnaces , indices \u001b[39m=\u001b[39m model\u001b[39m.\u001b[39mkneighbors(inputs)\n\u001b[0;32m     <a href='vscode-notebook-cell:/c%3A/Users/SUVARNA/Food_recommendation/Recommendation/Final_Recommendation.ipynb#W2sZmlsZQ%3D%3D?line=44'>45</a>\u001b[0m \u001b[39mfor\u001b[39;00m i \u001b[39min\u001b[39;00m \u001b[39mlist\u001b[39m(indices):\n\u001b[1;32m---> <a href='vscode-notebook-cell:/c%3A/Users/SUVARNA/Food_recommendation/Recommendation/Final_Recommendation.ipynb#W2sZmlsZQ%3D%3D?line=45'>46</a>\u001b[0m     df_results \u001b[39m=\u001b[39m df_results\u001b[39m.\u001b[39;49mappend(dataframe\u001b[39m.\u001b[39mloc[i])\n\u001b[0;32m     <a href='vscode-notebook-cell:/c%3A/Users/SUVARNA/Food_recommendation/Recommendation/Final_Recommendation.ipynb#W2sZmlsZQ%3D%3D?line=47'>48</a>\u001b[0m df_results \u001b[39m=\u001b[39m df_results\u001b[39m.\u001b[39mreset_index(drop\u001b[39m=\u001b[39m\u001b[39mTrue\u001b[39;00m)\n\u001b[0;32m     <a href='vscode-notebook-cell:/c%3A/Users/SUVARNA/Food_recommendation/Recommendation/Final_Recommendation.ipynb#W2sZmlsZQ%3D%3D?line=48'>49</a>\u001b[0m \u001b[39mreturn\u001b[39;00m df_results\n",
      "File \u001b[1;32mc:\\Users\\SUVARNA\\AppData\\Local\\Programs\\Python\\Python3.9\\lib\\site-packages\\pandas\\core\\generic.py:5989\u001b[0m, in \u001b[0;36mNDFrame.__getattr__\u001b[1;34m(self, name)\u001b[0m\n\u001b[0;32m   5982\u001b[0m \u001b[39mif\u001b[39;00m (\n\u001b[0;32m   5983\u001b[0m     name \u001b[39mnot\u001b[39;00m \u001b[39min\u001b[39;00m \u001b[39mself\u001b[39m\u001b[39m.\u001b[39m_internal_names_set\n\u001b[0;32m   5984\u001b[0m     \u001b[39mand\u001b[39;00m name \u001b[39mnot\u001b[39;00m \u001b[39min\u001b[39;00m \u001b[39mself\u001b[39m\u001b[39m.\u001b[39m_metadata\n\u001b[0;32m   5985\u001b[0m     \u001b[39mand\u001b[39;00m name \u001b[39mnot\u001b[39;00m \u001b[39min\u001b[39;00m \u001b[39mself\u001b[39m\u001b[39m.\u001b[39m_accessors\n\u001b[0;32m   5986\u001b[0m     \u001b[39mand\u001b[39;00m \u001b[39mself\u001b[39m\u001b[39m.\u001b[39m_info_axis\u001b[39m.\u001b[39m_can_hold_identifiers_and_holds_name(name)\n\u001b[0;32m   5987\u001b[0m ):\n\u001b[0;32m   5988\u001b[0m     \u001b[39mreturn\u001b[39;00m \u001b[39mself\u001b[39m[name]\n\u001b[1;32m-> 5989\u001b[0m \u001b[39mreturn\u001b[39;00m \u001b[39mobject\u001b[39;49m\u001b[39m.\u001b[39;49m\u001b[39m__getattribute__\u001b[39;49m(\u001b[39mself\u001b[39;49m, name)\n",
      "\u001b[1;31mAttributeError\u001b[0m: 'DataFrame' object has no attribute 'append'"
     ]
    }
   ],
   "source": [
    "user_id = 'User_100'  # user id of current user\n",
    "\n",
    "profiles = pd.read_csv('C:\\\\Users\\\\SUVARNA\\\\Food_recommendation\\\\Recommendation\\\\user_Profiles.csv') # profiles of all users\n",
    "recent_activity = pd.read_csv('C:\\\\Users\\\\SUVARNA\\\\Food_recommendation\\\\Recommendation\\\\recent_activity.csv') # recent activities of current user (meals liked,rated,searched,Purchased)\n",
    "dataset = pd.read_csv('C:\\\\Users\\\\SUVARNA\\\\Food_recommendation\\\\Recommendation\\\\dataset.csv') # main dataset\n",
    "\n",
    "\n",
    "ob = Recommender(profiles,recent_activity,dataset)\n",
    "result = ob.recommend(user_id)\n",
    "result"
   ]
  },
  {
   "cell_type": "code",
   "execution_count": null,
   "metadata": {},
   "outputs": [],
   "source": []
  },
  {
   "cell_type": "code",
   "execution_count": null,
   "metadata": {},
   "outputs": [],
   "source": []
  }
 ],
 "metadata": {
  "kernelspec": {
   "display_name": "Python 3.9.1 64-bit",
   "language": "python",
   "name": "python3"
  },
  "language_info": {
   "codemirror_mode": {
    "name": "ipython",
    "version": 3
   },
   "file_extension": ".py",
   "mimetype": "text/x-python",
   "name": "python",
   "nbconvert_exporter": "python",
   "pygments_lexer": "ipython3",
   "version": "3.9.1"
  },
  "orig_nbformat": 4,
  "vscode": {
   "interpreter": {
    "hash": "fd058b4f5419a99f4eec1dd6cde86fbdaa90886b3e8acb9442a012168dab5119"
   }
  }
 },
 "nbformat": 4,
 "nbformat_minor": 2
}
