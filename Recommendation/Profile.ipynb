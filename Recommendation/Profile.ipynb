{
 "cells": [
  {
   "cell_type": "code",
   "execution_count": 2,
   "metadata": {},
   "outputs": [
    {
     "name": "stderr",
     "output_type": "stream",
     "text": [
      "[nltk_data] Downloading package stopwords to\n",
      "[nltk_data]     C:\\Users\\SUVARNA\\AppData\\Roaming\\nltk_data...\n",
      "[nltk_data]   Package stopwords is already up-to-date!\n"
     ]
    },
    {
     "data": {
      "text/plain": [
       "True"
      ]
     },
     "execution_count": 2,
     "metadata": {},
     "output_type": "execute_result"
    }
   ],
   "source": [
    "import nltk\n",
    "nltk.download('stopwords')"
   ]
  },
  {
   "cell_type": "code",
   "execution_count": 3,
   "metadata": {},
   "outputs": [],
   "source": [
    "import pandas as pd \n",
    "import numpy as np\n",
    "import warnings\n",
    "import time\n",
    "import seaborn as sns\n",
    "import matplotlib.pyplot as plt\n",
    "import random\n",
    "import nltk\n",
    "from nltk.corpus import stopwords\n",
    "\n",
    "warnings.filterwarnings('ignore')"
   ]
  },
  {
   "cell_type": "code",
   "execution_count": 4,
   "metadata": {},
   "outputs": [],
   "source": [
    "class Profile:\n",
    "    \n",
    "    df = pd.read_csv('C:\\\\Users\\\\SUVARNA\\\\Food_recommendation\\\\Recommendation\\\\dataset.csv') # static variable\n",
    "    \n",
    "    def __init__(self,diet,disease,Nutrient,food_type,favorite_food):\n",
    "        self.diet = diet\n",
    "        self.disease = disease\n",
    "        self.nutrient = Nutrient\n",
    "        self.type = food_type\n",
    "        self.like = favorite_food\n",
    "        self.df2 = pd.DataFrame(columns=list(Profile.df.columns))\n",
    "        self.df3 = pd.DataFrame(columns=list(Profile.df.columns))\n",
    "        self.df4 = pd.DataFrame(columns=list(Profile.df.columns))\n",
    "        self.df5 = pd.DataFrame(columns=list(Profile.df.columns))\n",
    "        self.df6 = pd.DataFrame(columns=list(Profile.df.columns))\n",
    "        \n",
    "    def removestop(self,tokens):\n",
    "        stop = set(stopwords.words('english'))\n",
    "        file = open(\"C:\\\\Users\\\\SUVARNA\\\\Downloads\\\\stopwords.txt\",'r')\n",
    "        l = list(file.read().split())\n",
    "        stop = list(stop) +l\n",
    "        l = [token for token in tokens if token not in stop]\n",
    "        return l\n",
    "            \n",
    "    def inputs(self,diet,disease,Nutrient,food_type,favorite_food):\n",
    "        \n",
    "        if Nutrient:\n",
    "            self.df2 = Profile.df[Profile.df.Nutrient.isin(Nutrient)]\n",
    "            self.df2 = self.df2.reset_index()\n",
    "       \n",
    "        if food_type:\n",
    "            self.df2 = self.df2[self.df2.Veg_Non.isin(food_type)]\n",
    "            self.df2 = self.df2.reset_index()\n",
    "      \n",
    "        if diet:\n",
    "            for i in range(self.df2.shape[0]):\n",
    "                l = str(self.df2.loc[i,'Diet']).split()\n",
    "                \n",
    "                for d in diet:\n",
    "                    if d in l:\n",
    "                        self.df4=self.df4.append(self.df2.loc[i])\n",
    " \n",
    "        if disease:\n",
    "            for i in range(self.df2.shape[0]):\n",
    "                l = str(self.df2.loc[i,'Disease']).split()\n",
    "                for d in disease:\n",
    "                    if d in l:\n",
    "                        self.df5=self.df5.append(self.df2.loc[i])\n",
    "\n",
    "        if favorite_food:\n",
    "            f = self.removestop(favorite_food.split())\n",
    "            for i in range(Profile.df.shape[0]):\n",
    "                n = [j.lower() for j in str(Profile.df.loc[i,'Name']).split()]\n",
    "                for j in n:\n",
    "                    for k in f:\n",
    "                        if k==j:\n",
    "                            self.df6=self.df6.append(Profile.df.loc[i])\n",
    "            for i in range(Profile.df.shape[0]):\n",
    "                n = [j.lower() for j in str(Profile.df.loc[i,'description']).split()]\n",
    "                for j in n:\n",
    "                    for k in f:\n",
    "                        if k==j:\n",
    "                            self.df6=self.df6.append(df.loc[i])\n",
    "            for i in range(Profile.df.shape[0]):\n",
    "                n = [j.lower() for j in str(Profile.df.loc[i,'catagory']).split()]\n",
    "                for j in n:\n",
    "                    for k in f:\n",
    "                        if k==j:\n",
    "                            self.df6=self.df6.append(Profile.df.loc[i])\n",
    "            \n",
    "        return self.df2,self.df3,self.df4,self.df5,self.df6\n",
    "    \n",
    "    def get_profile(self):\n",
    "        df2,df3,df4,df5,df6 = self.inputs(self.diet,self.disease,self.nutrient,self.type,self.like)\n",
    "        \n",
    "        df_merge = pd.concat([df2,df3,df4,df5,df6],axis=0).drop_duplicates(subset='Name')\n",
    "        df_merge = df_merge.filter(['Name','Nutrient','Veg_Non','Price','Review','description'])\n",
    "        print(df_merge.shape)\n",
    "        \n",
    "        return df_merge"
   ]
  },
  {
   "cell_type": "code",
   "execution_count": 5,
   "metadata": {},
   "outputs": [
    {
     "ename": "AttributeError",
     "evalue": "'DataFrame' object has no attribute 'append'",
     "output_type": "error",
     "traceback": [
      "\u001b[1;31m---------------------------------------------------------------------------\u001b[0m",
      "\u001b[1;31mAttributeError\u001b[0m                            Traceback (most recent call last)",
      "\u001b[1;32mc:\\Users\\SUVARNA\\Food_recommendation\\Recommendation\\Profile.ipynb Cell 4\u001b[0m in \u001b[0;36m5\n\u001b[0;32m      <a href='vscode-notebook-cell:/c%3A/Users/SUVARNA/Food_recommendation/Recommendation/Profile.ipynb#W2sZmlsZQ%3D%3D?line=0'>1</a>\u001b[0m \u001b[39m# multiple inputs by radio button\u001b[39;00m\n\u001b[0;32m      <a href='vscode-notebook-cell:/c%3A/Users/SUVARNA/Food_recommendation/Recommendation/Profile.ipynb#W2sZmlsZQ%3D%3D?line=1'>2</a>\u001b[0m ob \u001b[39m=\u001b[39m Profile([\u001b[39m'\u001b[39m\u001b[39mhigh_protien_diet\u001b[39m\u001b[39m'\u001b[39m,\u001b[39m'\u001b[39m\u001b[39mgluten_free_diet\u001b[39m\u001b[39m'\u001b[39m],[\u001b[39m'\u001b[39m\u001b[39mdiabeties\u001b[39m\u001b[39m'\u001b[39m,\u001b[39m'\u001b[39m\u001b[39manemia\u001b[39m\u001b[39m'\u001b[39m],\n\u001b[0;32m      <a href='vscode-notebook-cell:/c%3A/Users/SUVARNA/Food_recommendation/Recommendation/Profile.ipynb#W2sZmlsZQ%3D%3D?line=2'>3</a>\u001b[0m              [\u001b[39m'\u001b[39m\u001b[39mcalcium\u001b[39m\u001b[39m'\u001b[39m,\u001b[39m'\u001b[39m\u001b[39mprotien\u001b[39m\u001b[39m'\u001b[39m],[\u001b[39m'\u001b[39m\u001b[39mnon-veg\u001b[39m\u001b[39m'\u001b[39m,\u001b[39m'\u001b[39m\u001b[39mveg\u001b[39m\u001b[39m'\u001b[39m],\u001b[39m'\u001b[39m\u001b[39mi like burger and sandwich\u001b[39m\u001b[39m'\u001b[39m)\n\u001b[1;32m----> <a href='vscode-notebook-cell:/c%3A/Users/SUVARNA/Food_recommendation/Recommendation/Profile.ipynb#W2sZmlsZQ%3D%3D?line=4'>5</a>\u001b[0m profile \u001b[39m=\u001b[39m ob\u001b[39m.\u001b[39;49mget_profile()\n\u001b[0;32m      <a href='vscode-notebook-cell:/c%3A/Users/SUVARNA/Food_recommendation/Recommendation/Profile.ipynb#W2sZmlsZQ%3D%3D?line=5'>6</a>\u001b[0m profile\n",
      "\u001b[1;32mc:\\Users\\SUVARNA\\Food_recommendation\\Recommendation\\Profile.ipynb Cell 4\u001b[0m in \u001b[0;36m7\n\u001b[0;32m     <a href='vscode-notebook-cell:/c%3A/Users/SUVARNA/Food_recommendation/Recommendation/Profile.ipynb#W2sZmlsZQ%3D%3D?line=72'>73</a>\u001b[0m \u001b[39mdef\u001b[39;00m \u001b[39mget_profile\u001b[39m(\u001b[39mself\u001b[39m):\n\u001b[1;32m---> <a href='vscode-notebook-cell:/c%3A/Users/SUVARNA/Food_recommendation/Recommendation/Profile.ipynb#W2sZmlsZQ%3D%3D?line=73'>74</a>\u001b[0m     df2,df3,df4,df5,df6 \u001b[39m=\u001b[39m \u001b[39mself\u001b[39;49m\u001b[39m.\u001b[39;49minputs(\u001b[39mself\u001b[39;49m\u001b[39m.\u001b[39;49mdiet,\u001b[39mself\u001b[39;49m\u001b[39m.\u001b[39;49mdisease,\u001b[39mself\u001b[39;49m\u001b[39m.\u001b[39;49mnutrient,\u001b[39mself\u001b[39;49m\u001b[39m.\u001b[39;49mtype,\u001b[39mself\u001b[39;49m\u001b[39m.\u001b[39;49mlike)\n\u001b[0;32m     <a href='vscode-notebook-cell:/c%3A/Users/SUVARNA/Food_recommendation/Recommendation/Profile.ipynb#W2sZmlsZQ%3D%3D?line=75'>76</a>\u001b[0m     df_merge \u001b[39m=\u001b[39m pd\u001b[39m.\u001b[39mconcat([df2,df3,df4,df5,df6],axis\u001b[39m=\u001b[39m\u001b[39m0\u001b[39m)\u001b[39m.\u001b[39mdrop_duplicates(subset\u001b[39m=\u001b[39m\u001b[39m'\u001b[39m\u001b[39mName\u001b[39m\u001b[39m'\u001b[39m)\n\u001b[0;32m     <a href='vscode-notebook-cell:/c%3A/Users/SUVARNA/Food_recommendation/Recommendation/Profile.ipynb#W2sZmlsZQ%3D%3D?line=76'>77</a>\u001b[0m     df_merge \u001b[39m=\u001b[39m df_merge\u001b[39m.\u001b[39mfilter([\u001b[39m'\u001b[39m\u001b[39mName\u001b[39m\u001b[39m'\u001b[39m,\u001b[39m'\u001b[39m\u001b[39mNutrient\u001b[39m\u001b[39m'\u001b[39m,\u001b[39m'\u001b[39m\u001b[39mVeg_Non\u001b[39m\u001b[39m'\u001b[39m,\u001b[39m'\u001b[39m\u001b[39mPrice\u001b[39m\u001b[39m'\u001b[39m,\u001b[39m'\u001b[39m\u001b[39mReview\u001b[39m\u001b[39m'\u001b[39m,\u001b[39m'\u001b[39m\u001b[39mdescription\u001b[39m\u001b[39m'\u001b[39m])\n",
      "\u001b[1;32mc:\\Users\\SUVARNA\\Food_recommendation\\Recommendation\\Profile.ipynb Cell 4\u001b[0m in \u001b[0;36m4\n\u001b[0;32m     <a href='vscode-notebook-cell:/c%3A/Users/SUVARNA/Food_recommendation/Recommendation/Profile.ipynb#W2sZmlsZQ%3D%3D?line=38'>39</a>\u001b[0m         \u001b[39mfor\u001b[39;00m d \u001b[39min\u001b[39;00m diet:\n\u001b[0;32m     <a href='vscode-notebook-cell:/c%3A/Users/SUVARNA/Food_recommendation/Recommendation/Profile.ipynb#W2sZmlsZQ%3D%3D?line=39'>40</a>\u001b[0m             \u001b[39mif\u001b[39;00m d \u001b[39min\u001b[39;00m l:\n\u001b[1;32m---> <a href='vscode-notebook-cell:/c%3A/Users/SUVARNA/Food_recommendation/Recommendation/Profile.ipynb#W2sZmlsZQ%3D%3D?line=40'>41</a>\u001b[0m                 \u001b[39mself\u001b[39m\u001b[39m.\u001b[39mdf4\u001b[39m=\u001b[39m\u001b[39mself\u001b[39;49m\u001b[39m.\u001b[39;49mdf4\u001b[39m.\u001b[39;49mappend(\u001b[39mself\u001b[39m\u001b[39m.\u001b[39mdf2\u001b[39m.\u001b[39mloc[i])\n\u001b[0;32m     <a href='vscode-notebook-cell:/c%3A/Users/SUVARNA/Food_recommendation/Recommendation/Profile.ipynb#W2sZmlsZQ%3D%3D?line=42'>43</a>\u001b[0m \u001b[39mif\u001b[39;00m disease:\n\u001b[0;32m     <a href='vscode-notebook-cell:/c%3A/Users/SUVARNA/Food_recommendation/Recommendation/Profile.ipynb#W2sZmlsZQ%3D%3D?line=43'>44</a>\u001b[0m     \u001b[39mfor\u001b[39;00m i \u001b[39min\u001b[39;00m \u001b[39mrange\u001b[39m(\u001b[39mself\u001b[39m\u001b[39m.\u001b[39mdf2\u001b[39m.\u001b[39mshape[\u001b[39m0\u001b[39m]):\n",
      "File \u001b[1;32mc:\\Users\\SUVARNA\\AppData\\Local\\Programs\\Python\\Python3.9\\lib\\site-packages\\pandas\\core\\generic.py:5989\u001b[0m, in \u001b[0;36mNDFrame.__getattr__\u001b[1;34m(self, name)\u001b[0m\n\u001b[0;32m   5982\u001b[0m \u001b[39mif\u001b[39;00m (\n\u001b[0;32m   5983\u001b[0m     name \u001b[39mnot\u001b[39;00m \u001b[39min\u001b[39;00m \u001b[39mself\u001b[39m\u001b[39m.\u001b[39m_internal_names_set\n\u001b[0;32m   5984\u001b[0m     \u001b[39mand\u001b[39;00m name \u001b[39mnot\u001b[39;00m \u001b[39min\u001b[39;00m \u001b[39mself\u001b[39m\u001b[39m.\u001b[39m_metadata\n\u001b[0;32m   5985\u001b[0m     \u001b[39mand\u001b[39;00m name \u001b[39mnot\u001b[39;00m \u001b[39min\u001b[39;00m \u001b[39mself\u001b[39m\u001b[39m.\u001b[39m_accessors\n\u001b[0;32m   5986\u001b[0m     \u001b[39mand\u001b[39;00m \u001b[39mself\u001b[39m\u001b[39m.\u001b[39m_info_axis\u001b[39m.\u001b[39m_can_hold_identifiers_and_holds_name(name)\n\u001b[0;32m   5987\u001b[0m ):\n\u001b[0;32m   5988\u001b[0m     \u001b[39mreturn\u001b[39;00m \u001b[39mself\u001b[39m[name]\n\u001b[1;32m-> 5989\u001b[0m \u001b[39mreturn\u001b[39;00m \u001b[39mobject\u001b[39;49m\u001b[39m.\u001b[39;49m\u001b[39m__getattribute__\u001b[39;49m(\u001b[39mself\u001b[39;49m, name)\n",
      "\u001b[1;31mAttributeError\u001b[0m: 'DataFrame' object has no attribute 'append'"
     ]
    }
   ],
   "source": [
    "# multiple inputs by radio button\n",
    "ob = Profile(['high_protien_diet','gluten_free_diet'],['diabeties','anemia'],\n",
    "             ['calcium','protien'],['non-veg','veg'],'i like burger and sandwich')\n",
    "\n",
    "profile = ob.get_profile()\n",
    "profile"
   ]
  },
  {
   "cell_type": "code",
   "execution_count": null,
   "metadata": {},
   "outputs": [],
   "source": []
  }
 ],
 "metadata": {
  "kernelspec": {
   "display_name": "Python 3.9.1 64-bit",
   "language": "python",
   "name": "python3"
  },
  "language_info": {
   "codemirror_mode": {
    "name": "ipython",
    "version": 3
   },
   "file_extension": ".py",
   "mimetype": "text/x-python",
   "name": "python",
   "nbconvert_exporter": "python",
   "pygments_lexer": "ipython3",
   "version": "3.9.1"
  },
  "orig_nbformat": 4,
  "vscode": {
   "interpreter": {
    "hash": "fd058b4f5419a99f4eec1dd6cde86fbdaa90886b3e8acb9442a012168dab5119"
   }
  }
 },
 "nbformat": 4,
 "nbformat_minor": 2
}
